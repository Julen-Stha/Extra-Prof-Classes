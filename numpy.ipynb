{
 "cells": [
  {
   "cell_type": "markdown",
   "id": "699ac8be-b459-4634-aa52-239fd6bce8b0",
   "metadata": {},
   "source": [
    "# Data Type"
   ]
  },
  {
   "cell_type": "markdown",
   "id": "93f043d4-e347-4fe9-b463-bccc72ad5b5a",
   "metadata": {},
   "source": [
    "# # Data Types esc + m used for heading"
   ]
  },
  {
   "cell_type": "code",
   "execution_count": 13,
   "id": "6955b0d1-327d-4976-aafb-2ad206471fa4",
   "metadata": {},
   "outputs": [
    {
     "name": "stdout",
     "output_type": "stream",
     "text": [
      "[[[ 1  2  3]\n",
      "  [ 4  5  6]\n",
      "  [ 7  8  9]\n",
      "  [ 7  8  9]]\n",
      "\n",
      " [[10 11 12]\n",
      "  [13 14 15]\n",
      "  [16 17 18]\n",
      "  [ 7  8  9]]\n",
      "\n",
      " [[10 11 12]\n",
      "  [13 14 15]\n",
      "  [16 17 18]\n",
      "  [ 7  8  9]]]\n",
      "Shape: (3, 4, 3)\n"
     ]
    }
   ],
   "source": [
    "# use shift + tab for info\n",
    "import numpy as np\n",
    "\n",
    "a1 = np.array(\n",
    "    [1,2,3]\n",
    ")\n",
    "a1\n",
    "\n",
    "a2 = np.array([[1, 2.0, 3],\n",
    "              [4, 5, 6.5]])\n",
    "a2\n",
    "\n",
    "import numpy as np\n",
    "\n",
    "a3 = np.array([\n",
    "               [[1, 2, 3],\n",
    "                [4, 5, 6],\n",
    "                [7, 8, 9],\n",
    "                [7, 8, 9]],\n",
    "\n",
    "               [[10, 11, 12],\n",
    "                [13, 14, 15],\n",
    "                [16, 17, 18],\n",
    "                [7, 8, 9]],\n",
    "\n",
    "               [[10, 11, 12],\n",
    "                [13, 14, 15],\n",
    "                [16, 17, 18],\n",
    "                [7, 8, 9]]\n",
    "             ])\n",
    "#3 blocks 4 rows 3 columns\n",
    "print(a3)\n",
    "print(\"Shape:\", a3.shape)\n",
    "\n"
   ]
  },
  {
   "cell_type": "code",
   "execution_count": 14,
   "id": "0bb865d2-8033-4e3b-b8ba-c3a69feb3884",
   "metadata": {},
   "outputs": [
    {
     "data": {
      "text/plain": [
       "(1, 2, 3)"
      ]
     },
     "execution_count": 14,
     "metadata": {},
     "output_type": "execute_result"
    }
   ],
   "source": [
    "a1.ndim, a2.ndim, a3.ndim"
   ]
  },
  {
   "cell_type": "code",
   "execution_count": 16,
   "id": "ea6fc7fc-4dbc-4a5e-8523-aa1bbd730a8b",
   "metadata": {},
   "outputs": [
    {
     "data": {
      "text/plain": [
       "(dtype('int32'), dtype('float64'), dtype('int32'))"
      ]
     },
     "execution_count": 16,
     "metadata": {},
     "output_type": "execute_result"
    }
   ],
   "source": [
    "a1.dtype,a2.dtype,a3.dtype"
   ]
  },
  {
   "cell_type": "code",
   "execution_count": 17,
   "id": "b2d5cfc5-cac4-45c5-b2c0-f096c59a105e",
   "metadata": {},
   "outputs": [
    {
     "data": {
      "text/plain": [
       "36"
      ]
     },
     "execution_count": 17,
     "metadata": {},
     "output_type": "execute_result"
    }
   ],
   "source": [
    "a3.size"
   ]
  },
  {
   "cell_type": "code",
   "execution_count": 18,
   "id": "95fb97c7-86c1-43d4-97c0-de2cc70df02e",
   "metadata": {},
   "outputs": [
    {
     "name": "stdout",
     "output_type": "stream",
     "text": [
      "[[1. 0. 0.]\n",
      " [0. 1. 0.]\n",
      " [0. 0. 1.]]\n"
     ]
    }
   ],
   "source": [
    "identity = np.eye(3)\n",
    "print(identity)"
   ]
  },
  {
   "cell_type": "code",
   "execution_count": 26,
   "id": "8dc7ef57-496d-4a51-a2e6-716912345507",
   "metadata": {},
   "outputs": [
    {
     "name": "stdout",
     "output_type": "stream",
     "text": [
      "[[0. 0. 0.]\n",
      " [0. 0. 0.]]\n"
     ]
    }
   ],
   "source": [
    "zeros = np.zeros((2,3))\n",
    "print(zeros)"
   ]
  },
  {
   "cell_type": "code",
   "execution_count": 31,
   "id": "f9c873b8-246d-470d-90d3-fe91a65487a0",
   "metadata": {},
   "outputs": [
    {
     "name": "stdout",
     "output_type": "stream",
     "text": [
      "[[0.91625514 0.96986846 0.70297857]\n",
      " [0.24539068 0.20945428 0.28195779]]\n"
     ]
    }
   ],
   "source": [
    "arr = np.random.rand(2,3)\n",
    "print(arr)"
   ]
  },
  {
   "cell_type": "code",
   "execution_count": 28,
   "id": "3ae1031d-3a1c-46d9-ae8d-ed82164e7fd3",
   "metadata": {},
   "outputs": [
    {
     "name": "stdout",
     "output_type": "stream",
     "text": [
      "[1 3 5 7 9]\n"
     ]
    }
   ],
   "source": [
    "print(np.arange(1, 11, 2))"
   ]
  },
  {
   "cell_type": "code",
   "execution_count": 32,
   "id": "3062d15e-7bd5-427f-a9e4-0037f005b7b3",
   "metadata": {},
   "outputs": [
    {
     "data": {
      "text/plain": [
       "array([[0.77395605, 0.43887844],\n",
       "       [0.85859792, 0.69736803],\n",
       "       [0.09417735, 0.97562235]])"
      ]
     },
     "execution_count": 32,
     "metadata": {},
     "output_type": "execute_result"
    }
   ],
   "source": [
    "rng = np.random.default_rng(seed = 42)\n",
    "rng.random((3,2))"
   ]
  },
  {
   "cell_type": "markdown",
   "id": "9398beb1-256d-42db-b0df-eda9b338f9de",
   "metadata": {},
   "source": [
    "# Dot product vs Element wise multiplication"
   ]
  },
  {
   "cell_type": "code",
   "execution_count": 10,
   "id": "7d6deae4-1293-4c61-8e7b-5eaefc9a47a1",
   "metadata": {},
   "outputs": [
    {
     "data": {
      "text/plain": [
       "(array([[5, 0, 3],\n",
       "        [3, 7, 9],\n",
       "        [3, 5, 2],\n",
       "        [4, 7, 6],\n",
       "        [8, 8, 1]]),\n",
       " array([[6, 7, 7],\n",
       "        [8, 1, 5],\n",
       "        [9, 8, 9],\n",
       "        [4, 3, 0],\n",
       "        [3, 5, 0]]))"
      ]
     },
     "execution_count": 10,
     "metadata": {},
     "output_type": "execute_result"
    }
   ],
   "source": [
    "import numpy as np\n",
    "np.random.seed(0)\n",
    "\n",
    "mat1 = np.random.randint(10,size = (5,3))\n",
    "mat2 = np.random.randint(10,size = (5,3))\n",
    "mat1,mat2"
   ]
  },
  {
   "cell_type": "code",
   "execution_count": 9,
   "id": "d9acddc1-bccb-4a20-916c-6f9e1e995691",
   "metadata": {},
   "outputs": [
    {
     "data": {
      "text/plain": [
       "array([[30,  0, 21],\n",
       "       [24,  7, 45],\n",
       "       [27, 40, 18],\n",
       "       [16, 21,  0],\n",
       "       [24, 40,  0]])"
      ]
     },
     "execution_count": 9,
     "metadata": {},
     "output_type": "execute_result"
    }
   ],
   "source": [
    "mat1 * mat2 #elemental"
   ]
  },
  {
   "cell_type": "code",
   "execution_count": 13,
   "id": "407c29dc-8960-460e-bab5-c6422cd12eb4",
   "metadata": {},
   "outputs": [
    {
     "data": {
      "text/plain": [
       "array([[ 51,  55,  72,  20,  15],\n",
       "       [130,  76, 164,  33,  44],\n",
       "       [ 67,  39,  85,  27,  34],\n",
       "       [115,  69, 146,  37,  47],\n",
       "       [111,  77, 145,  56,  64]])"
      ]
     },
     "execution_count": 13,
     "metadata": {},
     "output_type": "execute_result"
    }
   ],
   "source": [
    "\n",
    "np.dot(mat1,mat2.T) #dot product"
   ]
  },
  {
   "cell_type": "markdown",
   "id": "464cb1cf-17b2-44b4-9957-0f042e2ece7e",
   "metadata": {},
   "source": [
    "# Broadcasting"
   ]
  },
  {
   "cell_type": "code",
   "execution_count": 16,
   "id": "ef3cdade-b562-45de-a649-108626535008",
   "metadata": {},
   "outputs": [
    {
     "data": {
      "text/plain": [
       "((3,), (3, 1))"
      ]
     },
     "execution_count": 16,
     "metadata": {},
     "output_type": "execute_result"
    }
   ],
   "source": [
    "#dimension should be equal, one of them is 1\n",
    "# Broadcasting is a set of rules that allow operations on arrays of different shapes and sizes without explicitly copying data.\n",
    "# It \"stretches\" the smaller array across the larger one so you can do element-wise operations seamlessly.\n",
    "\n",
    "\n",
    "ex_arr1 = np.array([1,2,3])\n",
    "ex_arr2 = np.array([[1],\n",
    "                    [2],\n",
    "                    [3]])\n",
    "ex_arr1.shape,ex_arr2.shape"
   ]
  },
  {
   "cell_type": "code",
   "execution_count": 17,
   "id": "452e4c21-0e07-4686-ae77-fb33cc8c5c7a",
   "metadata": {},
   "outputs": [
    {
     "data": {
      "text/plain": [
       "array([[2, 3, 4],\n",
       "       [3, 4, 5],\n",
       "       [4, 5, 6]])"
      ]
     },
     "execution_count": 17,
     "metadata": {},
     "output_type": "execute_result"
    }
   ],
   "source": [
    "ex_arr1 + ex_arr2"
   ]
  },
  {
   "cell_type": "code",
   "execution_count": 18,
   "id": "9654c80d-749c-4c5a-9f6e-f116000191f3",
   "metadata": {},
   "outputs": [
    {
     "data": {
      "text/plain": [
       "array([[1, 2, 3],\n",
       "       [2, 4, 6],\n",
       "       [3, 6, 9]])"
      ]
     },
     "execution_count": 18,
     "metadata": {},
     "output_type": "execute_result"
    }
   ],
   "source": [
    "ex_arr1 * ex_arr2"
   ]
  }
 ],
 "metadata": {
  "kernelspec": {
   "display_name": "ExtraProf",
   "language": "python",
   "name": "python3"
  },
  "language_info": {
   "codemirror_mode": {
    "name": "ipython",
    "version": 3
   },
   "file_extension": ".py",
   "mimetype": "text/x-python",
   "name": "python",
   "nbconvert_exporter": "python",
   "pygments_lexer": "ipython3",
   "version": "3.10.18"
  }
 },
 "nbformat": 4,
 "nbformat_minor": 5
}
